{
 "cells": [
  {
   "cell_type": "markdown",
   "metadata": {},
   "source": [
    "The purpose of this script is to find fads or \"hot topics\" in fMRI research over time. It uses Kleinberg's \"bursty stream analysis\" to identify topics that are associated with a burst of popularity and the time courses of their popularity.\n",
    "\n",
    "Kleinberg, 2002. Bursty and Hierarchical Structure in Streams\n",
    "https://www.cs.cornell.edu/home/kleinber/bhs.pdf\n",
    "\n"
   ]
  },
  {
   "cell_type": "code",
   "execution_count": 1,
   "metadata": {
    "collapsed": true
   },
   "outputs": [],
   "source": [
    "from Bio import Entrez\n",
    "\n",
    "#search PubMed for all articles with \"fMRI\" in the title or abstract\n",
    "Entrez.email = 'marinsek@dyns.ucsb.edu'\n",
    "handle = Entrez.esearch(db='pubmed', \n",
    "                        sort='recent',\n",
    "                        term='fMRI')\n",
    "record = Entrez.read(handle)\n",
    "#record is a list of article IDs that matched the query\n",
    "record[\"IdList\"]\n"
   ]
  }
 ],
 "metadata": {
  "kernelspec": {
   "display_name": "Python 2",
   "language": "python",
   "name": "python2"
  },
  "language_info": {
   "codemirror_mode": {
    "name": "ipython",
    "version": 2
   },
   "file_extension": ".py",
   "mimetype": "text/x-python",
   "name": "python",
   "nbconvert_exporter": "python",
   "pygments_lexer": "ipython2",
   "version": "2.7.11"
  }
 },
 "nbformat": 4,
 "nbformat_minor": 0
}
