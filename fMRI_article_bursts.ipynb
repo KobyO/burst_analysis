{
 "cells": [
  {
   "cell_type": "markdown",
   "metadata": {},
   "source": [
    "The purpose of this script is to find \"fads\" or \"hot topics\" in fMRI research over time. It uses Kleinberg's \"bursty stream analysis\" to identify topics that are associated with a burst of popularity and characterize their popularity over time.\n",
    "\n",
    "Kleinberg, 2002. Bursty and Hierarchical Structure in Streams\n",
    "https://www.cs.cornell.edu/home/kleinber/bhs.pdf\n",
    "\n"
   ]
  },
  {
   "cell_type": "code",
   "execution_count": 222,
   "metadata": {
    "collapsed": false
   },
   "outputs": [],
   "source": [
    "from Bio import Entrez\n",
    "import string\n",
    "\n",
    "#RETRIVE ARTICLES FROM PUBMED\n",
    "\n",
    "#search PubMed for all articles with \"fMRI\" in the title or abstract\n",
    "#code adapted from http://marcobonzanini.com/2015/01/12/searching-pubmed-with-python/\n",
    "def search(query):\n",
    "    Entrez.email = 'marinsek@dyns.ucsb.edu'\n",
    "    handle = Entrez.esearch(db='pubmed', \n",
    "                            sort='recent',\n",
    "                            retmax='20',\n",
    "                            retmode='xml',\n",
    "                            term=query)\n",
    "    results = Entrez.read(handle)\n",
    "    return results #returns list of article IDs \n",
    "\n",
    "#given a list of article IDs, find their associated titles, publication dates, and journals\n",
    "def get_details(id_list):\n",
    "    ids = ','.join(id_list)\n",
    "    Entrez.email = 'marinsek@dyns.ucsb.edu'\n",
    "    #get title, publication date, and journal\n",
    "    handle = Entrez.efetch(db='pubmed',\n",
    "                           retmode='xml',\n",
    "                           id=ids)\n",
    "    results = Entrez.read(handle)\n",
    "    return results #returns a list of MedlineCitation dictionaries\n",
    "\n",
    "#retrieve articles containing \"fMRI\"\n",
    "search_results = search('functional magnetic resonance imaging[Title/Abstract] OR fMRI[Title/Abstract]')\n",
    "results = get_details(search_results['IdList'])\n"
   ]
  },
  {
   "cell_type": "code",
   "execution_count": 223,
   "metadata": {
    "collapsed": false
   },
   "outputs": [],
   "source": [
    "#CREATE AN ARTICLE CLASS\n",
    "class Article:\n",
    "    \n",
    "    def __init__(self, title, title_words, journal, pub_year, pub_month):\n",
    "        self.title = title\n",
    "        self.title_words = title_words\n",
    "        self.journal = journal\n",
    "        self.pub_date = pub_month+pub_year\n"
   ]
  },
  {
   "cell_type": "code",
   "execution_count": 224,
   "metadata": {
    "collapsed": false
   },
   "outputs": [
    {
     "name": "stdout",
     "output_type": "stream",
     "text": [
      "16\n",
      "4\n"
     ]
    }
   ],
   "source": [
    "#ORGANIZE DATA AND PREPROCESS ARTICLE TITLES\n",
    "import string\n",
    "from collections import defaultdict\n",
    "\n",
    "#create a dictionary to hold all of the articles\n",
    "#keys: publication date (ex. APR2016), values: list of Article objects\n",
    "articles = defaultdict(list)\n",
    "\n",
    "articles_used = 0\n",
    "articles_rejected = 0\n",
    "\n",
    "#loop through results\n",
    "for result in results:\n",
    "    \n",
    "    #only add articles with known publication dates, journals, and titles\n",
    "    try:\n",
    "    \n",
    "        #populate an Article object based on the result\n",
    "        #Article(title, title_words, journal, pub_year, pub_month)\n",
    "        a = Article(result['MedlineCitation']['Article']['ArticleTitle'],\n",
    "                    [],\n",
    "                    result['MedlineCitation']['Article']['Journal']['Title'],\n",
    "                    result['MedlineCitation']['Article']['Journal']['JournalIssue']['PubDate']['Year'],\n",
    "                    result['MedlineCitation']['Article']['Journal']['JournalIssue']['PubDate']['Month'].upper())\n",
    "    \n",
    "    except:\n",
    "        \n",
    "        articles_rejected += 1\n",
    "    \n",
    "    else:\n",
    "        \n",
    "        #preprocess the words in the title\n",
    "        words = a.title.lower().split()     #convert all words to lowercase and parse\n",
    "        words = [word.strip(string.punctuation) for word in words]  #remove leading and trailing punctuation \n",
    "        a.title_words = words               #add the list of words to the Article object\n",
    "\n",
    "        #add the Article object to the articles dictionary (add to appropriate month)\n",
    "        articles[a.pub_date].append(a)\n",
    "        \n",
    "        articles_used += 1\n",
    "        \n",
    "print articles_used\n",
    "print articles_rejected\n"
   ]
  },
  {
   "cell_type": "code",
   "execution_count": 233,
   "metadata": {
    "collapsed": false
   },
   "outputs": [
    {
     "name": "stdout",
     "output_type": "stream",
     "text": [
      "         ipsilesional    anodal      tdcs  enhances       the  functional  \\\n",
      "MAR2016      0.371564  0.371564  0.371564  0.371564  0.810930    0.371564   \n",
      "APR2016     -0.069157 -0.069157 -0.069157 -0.069157  0.809577    2.127677   \n",
      "\n",
      "         benefits        of  rehabilitation        in     ...        imagery  \\\n",
      "MAR2016  0.371564  0.810930        0.371564  0.810930     ...      -0.067803   \n",
      "APR2016 -0.069157  3.445777       -0.069157  3.445777     ...      -0.069157   \n",
      "\n",
      "              via  parahippocampal  differential   sensory  signatures  \\\n",
      "MAR2016 -0.067803        -0.067803     -0.067803 -0.067803   -0.067803   \n",
      "APR2016 -0.069157        -0.069157     -0.069157 -0.069157   -0.069157   \n",
      "\n",
      "           autism  amplitude  trial-to-trial  variability  \n",
      "MAR2016 -0.067803  -0.067803       -0.067803    -0.067803  \n",
      "APR2016 -0.069157  -0.069157       -0.069157    -0.069157  \n",
      "\n",
      "[2 rows x 134 columns]\n"
     ]
    }
   ],
   "source": [
    "#RUN BURSTY ANALYSIS\n",
    "\n",
    "import sympy.functions.combinatorial.factorials as c\n",
    "from numpy import log\n",
    "import pandas as pd\n",
    "\n",
    "#define s: resolution of state jumps, lower s --> more bursty\n",
    "s = 1.5\n",
    "\n",
    "#create a list of all unique words in the article titles\n",
    "unique_words = []\n",
    "for month in articles:                      #loop through months\n",
    "    for a in articles[month]:               #loop through articles in each month\n",
    "        for word in a.title_words:          #loop through words in each article title\n",
    "            if word not in unique_words:    \n",
    "                unique_words.append(word)   #add new words to unique_words list\n",
    "\n",
    "#define variables\n",
    "r = {}              #number of relevant papers in month t\n",
    "d = {}              #number of papers in month t\n",
    "p = {}              #proportion of relevant papers in month t\n",
    "w = {}              #weight of transition from t to t+1\n",
    "cost_diff = {}\n",
    "start_yr = 2016\n",
    "end_yr = 2016\n",
    "months = ['JAN','FEB','MAR','APR','MAY','JUN','JUL','AUG','SEP','OCT','NOV','DEC']\n",
    "skipped = 0\n",
    "index = ['MAR2016','APR2016']\n",
    "weights = pd.DataFrame(index=index)\n",
    "\n",
    "                \n",
    "#loop through all unique words\n",
    "for word in unique_words:\n",
    "    \n",
    "    #loop through each month (t) and find proportions\n",
    "    for month in articles:\n",
    "        \n",
    "        #calculate rt: titles containing WORD in MONTH\n",
    "        r[month] = sum([1 for article in articles[month] if word in article.title_words])\n",
    "        \n",
    "        #calculate dt: titles in MONTH\n",
    "        d[month] = len(articles[month])\n",
    "        \n",
    "        #calculate pt: proportion of titles containing WORD in MONTH\n",
    "        p[month] = rt[month] / float(dt[month])\n",
    "        \n",
    "    #calculate R: total titles containing WORD\n",
    "    R = sum(rt.values())\n",
    "    \n",
    "    #calculate D: total titles\n",
    "    D = sum(dt.values())\n",
    "    \n",
    "    #calculate p0: baseline proportion of titles containing WORD --> \"expected\" proportion\n",
    "    p0 = R / float(D)\n",
    "    \n",
    "    #calculate p1: estimated proportion of titles containing WORD during a burst\n",
    "    p1 = P * s\n",
    "    \n",
    "    #calculate transition weights from month to month\n",
    "    #**** need to make sure this is done in the correct order***\n",
    "    t = 'JAN2015'\n",
    "    first = True\n",
    "    for year in range(start_yr,end_yr+1):\n",
    "        for month in months:\n",
    "            \n",
    "            #define timepoint\n",
    "            prev_t = t\n",
    "            t = month + str(year)\n",
    "            \n",
    "            #skip months with no papers\n",
    "            try:\n",
    "                d[t]\n",
    "            except:\n",
    "                skipped += 1\n",
    "            else:\n",
    "                \n",
    "                #calculate cost for q0 (formula on pg. 14)\n",
    "                cost_q0 = -log(float(c.binomial(d[t],r[t]) * (p0**r[t]) * (1-p0)**(d[t]-r[t])))\n",
    "\n",
    "                #calculate cost for q1\n",
    "                cost_q1 = -log(float(c.binomial(d[t],r[t]) * (p1**r[t]) * (1-p1)**(d[t]-r[t])))\n",
    "\n",
    "                #calculate weight of burst (== improvement in cost for q1 compared to q0)\n",
    "                cost_diff[t] = cost_q0 - cost_q1\n",
    "\n",
    "                #calculate weight between t-1 and t (skip for first loop, since t-1 is out of bounds)\n",
    "                if first == True:\n",
    "                    first = False\n",
    "                else:\n",
    "                    #calculate weight between t-1 and t\n",
    "                    w[t] = cost_diff[prev_t] + cost_diff[t]\n",
    "                    \n",
    "    #add weights to the dataframe\n",
    "    weights[word] = w.values()\n",
    "\n"
   ]
  },
  {
   "cell_type": "code",
   "execution_count": 236,
   "metadata": {
    "collapsed": false
   },
   "outputs": [
    {
     "name": "stdout",
     "output_type": "stream",
     "text": [
      "Populating the interactive namespace from numpy and matplotlib\n"
     ]
    },
    {
     "data": {
      "text/plain": [
       "<matplotlib.axes._subplots.AxesSubplot at 0x110da7b90>"
      ]
     },
     "execution_count": 236,
     "metadata": {},
     "output_type": "execute_result"
    },
    {
     "data": {
      "image/png": "[encoded data removed]",
      "text/plain": [
       "<matplotlib.figure.Figure at 0x10ff9d6d0>"
      ]
     },
     "metadata": {},
     "output_type": "display_data"
    }
   ],
   "source": [
    "#IDENTIFY WORDS WITH HIGHEST WEIGHTS\n",
    "%pylab inline \n",
    "\n",
    "weights['treatment'].plot()\n"
   ]
  }
 ],
 "metadata": {
  "celltoolbar": "Edit Metadata",
  "kernelspec": {
   "display_name": "Python 2",
   "language": "python",
   "name": "python2"
  },
  "language_info": {
   "codemirror_mode": {
    "name": "ipython",
    "version": 2
   },
   "file_extension": ".py",
   "mimetype": "text/x-python",
   "name": "python",
   "nbconvert_exporter": "python",
   "pygments_lexer": "ipython2",
   "version": "2.7.11"
  }
 },
 "nbformat": 4,
 "nbformat_minor": 0
}
